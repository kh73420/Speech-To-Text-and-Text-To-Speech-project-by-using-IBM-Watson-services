{
 "cells": [
  {
   "cell_type": "code",
   "execution_count": 1,
   "id": "84a64066",
   "metadata": {},
   "outputs": [
    {
     "name": "stdout",
     "output_type": "stream",
     "text": [
      "Requirement already satisfied: ibm_watson in c:\\users\\kh20\\appdata\\local\\programs\\python\\python37\\lib\\site-packages (5.2.2)\n",
      "Requirement already satisfied: websocket-client==1.1.0 in c:\\users\\kh20\\appdata\\local\\programs\\python\\python37\\lib\\site-packages (from ibm_watson) (1.1.0)\n",
      "Requirement already satisfied: python-dateutil>=2.5.3 in c:\\users\\kh20\\appdata\\local\\programs\\python\\python37\\lib\\site-packages (from ibm_watson) (2.8.2)\n",
      "Requirement already satisfied: requests<3.0,>=2.0 in c:\\users\\kh20\\appdata\\local\\programs\\python\\python37\\lib\\site-packages (from ibm_watson) (2.26.0)\n",
      "Requirement already satisfied: ibm-cloud-sdk-core==3.*,>=3.3.6 in c:\\users\\kh20\\appdata\\local\\programs\\python\\python37\\lib\\site-packages (from ibm_watson) (3.10.1)\n",
      "Requirement already satisfied: six>=1.5 in c:\\users\\kh20\\appdata\\local\\programs\\python\\python37\\lib\\site-packages (from python-dateutil>=2.5.3->ibm_watson) (1.16.0)\n",
      "Requirement already satisfied: idna<4,>=2.5; python_version >= \"3\" in c:\\users\\kh20\\appdata\\local\\programs\\python\\python37\\lib\\site-packages (from requests<3.0,>=2.0->ibm_watson) (3.2)\n",
      "Requirement already satisfied: charset-normalizer~=2.0.0; python_version >= \"3\" in c:\\users\\kh20\\appdata\\local\\programs\\python\\python37\\lib\\site-packages (from requests<3.0,>=2.0->ibm_watson) (2.0.3)\n",
      "Requirement already satisfied: certifi>=2017.4.17 in c:\\users\\kh20\\appdata\\local\\programs\\python\\python37\\lib\\site-packages (from requests<3.0,>=2.0->ibm_watson) (2021.5.30)\n",
      "Requirement already satisfied: urllib3<1.27,>=1.21.1 in c:\\users\\kh20\\appdata\\local\\programs\\python\\python37\\lib\\site-packages (from requests<3.0,>=2.0->ibm_watson) (1.26.6)\n",
      "Requirement already satisfied: PyJWT<3.0.0,>=2.0.1 in c:\\users\\kh20\\appdata\\local\\programs\\python\\python37\\lib\\site-packages (from ibm-cloud-sdk-core==3.*,>=3.3.6->ibm_watson) (2.1.0)\n"
     ]
    },
    {
     "name": "stderr",
     "output_type": "stream",
     "text": [
      "WARNING: You are using pip version 20.1.1; however, version 21.1.3 is available.\n",
      "You should consider upgrading via the 'c:\\users\\kh20\\appdata\\local\\programs\\python\\python37\\python.exe -m pip install --upgrade pip' command.\n"
     ]
    }
   ],
   "source": [
    "!pip install ibm_watson"
   ]
  },
  {
   "cell_type": "code",
   "execution_count": 2,
   "id": "b7cb4e30",
   "metadata": {},
   "outputs": [],
   "source": [
    "from ibm_watson import TextToSpeechV1\n",
    "from ibm_cloud_sdk_core.authenticators import IAMAuthenticator"
   ]
  },
  {
   "cell_type": "code",
   "execution_count": 3,
   "id": "0739ab0e",
   "metadata": {},
   "outputs": [],
   "source": [
    "apikey = '2y3wQrKqQBUtlXlJyMEDrNc5KHzf_BgWQW3UAcwUJ2-g'\n",
    "url = 'https://api.us-south.text-to-speech.watson.cloud.ibm.com/instances/70711ff8-4a55-4c4d-8de2-3494a4762587'"
   ]
  },
  {
   "cell_type": "code",
   "execution_count": 4,
   "id": "a051583d",
   "metadata": {},
   "outputs": [],
   "source": [
    "authenticator = IAMAuthenticator(apikey)\n",
    "tts = TextToSpeechV1(authenticator=authenticator)\n",
    "tts.set_service_url(url)"
   ]
  },
  {
   "cell_type": "code",
   "execution_count": 6,
   "id": "8851454b",
   "metadata": {},
   "outputs": [],
   "source": [
    "with open('mytext.txt', 'r') as f:\n",
    "    text = f.readlines()"
   ]
  },
  {
   "cell_type": "code",
   "execution_count": 7,
   "id": "ac5ec8de",
   "metadata": {},
   "outputs": [
    {
     "data": {
      "text/plain": [
       "['Artificial Intelligence has gone from being a figment of fiction to reality in a matter of years']"
      ]
     },
     "execution_count": 7,
     "metadata": {},
     "output_type": "execute_result"
    }
   ],
   "source": [
    "text"
   ]
  },
  {
   "cell_type": "code",
   "execution_count": 8,
   "id": "dac4eb22",
   "metadata": {},
   "outputs": [],
   "source": [
    "text = ''.join(str(line) for line in text)"
   ]
  },
  {
   "cell_type": "code",
   "execution_count": 10,
   "id": "428b4bbe",
   "metadata": {},
   "outputs": [],
   "source": [
    "with open('./speechText.mp3', 'wb') as audio_file:\n",
    "    res = tts.synthesize(text, accept='audio/mp3', voice='en-GB_JamesV3Voice').get_result()\n",
    "    audio_file.write(res.content)"
   ]
  },
  {
   "cell_type": "code",
   "execution_count": null,
   "id": "fde2aa4a",
   "metadata": {},
   "outputs": [],
   "source": []
  }
 ],
 "metadata": {
  "kernelspec": {
   "display_name": "Python 3 (ipykernel)",
   "language": "python",
   "name": "python3"
  },
  "language_info": {
   "codemirror_mode": {
    "name": "ipython",
    "version": 3
   },
   "file_extension": ".py",
   "mimetype": "text/x-python",
   "name": "python",
   "nbconvert_exporter": "python",
   "pygments_lexer": "ipython3",
   "version": "3.7.9"
  }
 },
 "nbformat": 4,
 "nbformat_minor": 5
}
