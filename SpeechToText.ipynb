{
 "cells": [
  {
   "cell_type": "code",
   "execution_count": 1,
   "id": "4a69aeaa",
   "metadata": {},
   "outputs": [
    {
     "name": "stdout",
     "output_type": "stream",
     "text": [
      "Requirement already satisfied: ibm_watson in c:\\users\\kh20\\appdata\\local\\programs\\python\\python37\\lib\\site-packages (5.2.2)"
     ]
    },
    {
     "name": "stderr",
     "output_type": "stream",
     "text": [
      "WARNING: You are using pip version 20.1.1; however, version 21.1.3 is available.\n",
      "You should consider upgrading via the 'c:\\users\\kh20\\appdata\\local\\programs\\python\\python37\\python.exe -m pip install --upgrade pip' command.\n"
     ]
    },
    {
     "name": "stdout",
     "output_type": "stream",
     "text": [
      "\n",
      "Requirement already satisfied: ibm-cloud-sdk-core==3.*,>=3.3.6 in c:\\users\\kh20\\appdata\\local\\programs\\python\\python37\\lib\\site-packages (from ibm_watson) (3.10.1)\n",
      "Requirement already satisfied: requests<3.0,>=2.0 in c:\\users\\kh20\\appdata\\local\\programs\\python\\python37\\lib\\site-packages (from ibm_watson) (2.26.0)\n",
      "Requirement already satisfied: python-dateutil>=2.5.3 in c:\\users\\kh20\\appdata\\local\\programs\\python\\python37\\lib\\site-packages (from ibm_watson) (2.8.2)\n",
      "Requirement already satisfied: websocket-client==1.1.0 in c:\\users\\kh20\\appdata\\local\\programs\\python\\python37\\lib\\site-packages (from ibm_watson) (1.1.0)\n",
      "Requirement already satisfied: PyJWT<3.0.0,>=2.0.1 in c:\\users\\kh20\\appdata\\local\\programs\\python\\python37\\lib\\site-packages (from ibm-cloud-sdk-core==3.*,>=3.3.6->ibm_watson) (2.1.0)\n",
      "Requirement already satisfied: charset-normalizer~=2.0.0; python_version >= \"3\" in c:\\users\\kh20\\appdata\\local\\programs\\python\\python37\\lib\\site-packages (from requests<3.0,>=2.0->ibm_watson) (2.0.3)\n",
      "Requirement already satisfied: certifi>=2017.4.17 in c:\\users\\kh20\\appdata\\local\\programs\\python\\python37\\lib\\site-packages (from requests<3.0,>=2.0->ibm_watson) (2021.5.30)\n",
      "Requirement already satisfied: idna<4,>=2.5; python_version >= \"3\" in c:\\users\\kh20\\appdata\\local\\programs\\python\\python37\\lib\\site-packages (from requests<3.0,>=2.0->ibm_watson) (3.2)\n",
      "Requirement already satisfied: urllib3<1.27,>=1.21.1 in c:\\users\\kh20\\appdata\\local\\programs\\python\\python37\\lib\\site-packages (from requests<3.0,>=2.0->ibm_watson) (1.26.6)\n",
      "Requirement already satisfied: six>=1.5 in c:\\users\\kh20\\appdata\\local\\programs\\python\\python37\\lib\\site-packages (from python-dateutil>=2.5.3->ibm_watson) (1.16.0)\n"
     ]
    }
   ],
   "source": [
    "!pip install ibm_watson"
   ]
  },
  {
   "cell_type": "code",
   "execution_count": 2,
   "id": "0ccdac3d",
   "metadata": {},
   "outputs": [],
   "source": [
    "from ibm_watson import SpeechToTextV1\n",
    "from ibm_cloud_sdk_core.authenticators import IAMAuthenticator"
   ]
  },
  {
   "cell_type": "code",
   "execution_count": 3,
   "id": "6d9f7c12",
   "metadata": {},
   "outputs": [],
   "source": [
    "apikey = 'xz6Wp9DAvP_nPn1cOUYR40jVunsj51tP1H3ojsqG2g18'\n",
    "url = 'https://api.us-south.speech-to-text.watson.cloud.ibm.com/instances/0b6c6c04-8797-4887-982f-5dbf5f2bd849'"
   ]
  },
  {
   "cell_type": "code",
   "execution_count": 4,
   "id": "3e8c263a",
   "metadata": {},
   "outputs": [],
   "source": [
    "authenticator = IAMAuthenticator(apikey)\n",
    "stt = SpeechToTextV1(authenticator=authenticator)\n",
    "stt.set_service_url(url)"
   ]
  },
  {
   "cell_type": "code",
   "execution_count": 5,
   "id": "eb9b6181",
   "metadata": {},
   "outputs": [],
   "source": [
    "with open('Voice.mp3', 'rb') as f:\n",
    "    res = stt.recognize(audio=f, content_type='audio/mp3', model='en-US_NarrowbandModel', continuous=True).get_result()"
   ]
  },
  {
   "cell_type": "code",
   "execution_count": 6,
   "id": "56e25075",
   "metadata": {},
   "outputs": [
    {
     "data": {
      "text/plain": [
       "{'result_index': 0,\n",
       " 'results': [{'final': True,\n",
       "   'alternatives': [{'transcript': 'hello ', 'confidence': 0.96}]}]}"
      ]
     },
     "execution_count": 6,
     "metadata": {},
     "output_type": "execute_result"
    }
   ],
   "source": [
    "res"
   ]
  },
  {
   "cell_type": "code",
   "execution_count": 7,
   "id": "7d3cbaca",
   "metadata": {},
   "outputs": [
    {
     "data": {
      "text/plain": [
       "'hello '"
      ]
     },
     "execution_count": 7,
     "metadata": {},
     "output_type": "execute_result"
    }
   ],
   "source": [
    "text = res['results'][0]['alternatives'][0]['transcript']\n",
    "text"
   ]
  },
  {
   "cell_type": "code",
   "execution_count": 8,
   "id": "ad0d7d18",
   "metadata": {},
   "outputs": [
    {
     "data": {
      "text/plain": [
       "0.96"
      ]
     },
     "execution_count": 8,
     "metadata": {},
     "output_type": "execute_result"
    }
   ],
   "source": [
    "confidence = res['results'][0]['alternatives'][0]['confidence']\n",
    "confidence"
   ]
  },
  {
   "cell_type": "code",
   "execution_count": 9,
   "id": "e1b27573",
   "metadata": {},
   "outputs": [],
   "source": [
    "with open('output.txt', 'w') as out:\n",
    "    out.writelines(text)"
   ]
  },
  {
   "cell_type": "code",
   "execution_count": null,
   "id": "ca9c84a9",
   "metadata": {},
   "outputs": [],
   "source": []
  }
 ],
 "metadata": {
  "kernelspec": {
   "display_name": "Python 3 (ipykernel)",
   "language": "python",
   "name": "python3"
  },
  "language_info": {
   "codemirror_mode": {
    "name": "ipython",
    "version": 3
   },
   "file_extension": ".py",
   "mimetype": "text/x-python",
   "name": "python",
   "nbconvert_exporter": "python",
   "pygments_lexer": "ipython3",
   "version": "3.7.9"
  }
 },
 "nbformat": 4,
 "nbformat_minor": 5
}
